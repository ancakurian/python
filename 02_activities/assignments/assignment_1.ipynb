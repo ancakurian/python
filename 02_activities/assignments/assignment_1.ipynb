{
 "cells": [
  {
   "cell_type": "code",
   "execution_count": 1,
   "metadata": {},
   "outputs": [
    {
     "name": "stdout",
     "output_type": "stream",
     "text": [
      "True\n"
     ]
    }
   ],
   "source": [
    "# I defined the function and given it two parameters (word_a, word_b). I used the .lower() method to have all characters typed in the same way.\n",
    "\n",
    "def anagram_checker(word_a, word_b):\n",
    "    \n",
    "    word_a = word_a.lower()\n",
    "    word_b = word_b.lower()\n",
    "\n",
    "    return sorted(word_a) == sorted(word_b)\n",
    "\n",
    "\n",
    "# I run the code to return a boolean value.\n",
    "\n",
    "print(anagram_checker(\"Silent\", \"listen\"))"
   ]
  },
  {
   "cell_type": "code",
   "execution_count": 2,
   "metadata": {},
   "outputs": [
    {
     "name": "stdout",
     "output_type": "stream",
     "text": [
      "False\n"
     ]
    }
   ],
   "source": [
    "# I run the code to return a boolean value; this time the parameters have new values (\"Silent\", \"Night\").\n",
    "\n",
    "print(anagram_checker(\"Silent\", \"Night\"))"
   ]
  },
  {
   "cell_type": "code",
   "execution_count": 3,
   "metadata": {},
   "outputs": [
    {
     "name": "stdout",
     "output_type": "stream",
     "text": [
      "True\n"
     ]
    }
   ],
   "source": [
    "# I run the code to return a boolean value; this time, new values of the parameters are \"night\", \"Thing\".\n",
    "\n",
    "print(anagram_checker(\"night\", \"Thing\"))"
   ]
  },
  {
   "cell_type": "code",
   "execution_count": 4,
   "metadata": {},
   "outputs": [
    {
     "name": "stdout",
     "output_type": "stream",
     "text": [
      "False\n"
     ]
    }
   ],
   "source": [
    "# I defined the function adding a third parameter that will check for case sensitivity.\n",
    "\n",
    "def anagram_checker(word_a, word_b, is_case_sensitive):\n",
    "    \n",
    "  return sorted(word_a) == sorted(word_b)\n",
    "\n",
    "\n",
    "print(anagram_checker(\"Silent\", \"listen\", False))"
   ]
  },
  {
   "cell_type": "code",
   "execution_count": 5,
   "metadata": {},
   "outputs": [
    {
     "name": "stdout",
     "output_type": "stream",
     "text": [
      "False\n"
     ]
    }
   ],
   "source": [
    "print(anagram_checker(\"Silent\", \"Listen\", True)) "
   ]
  }
 ],
 "metadata": {
  "kernelspec": {
   "display_name": "new-learner",
   "language": "python",
   "name": "python3"
  },
  "language_info": {
   "codemirror_mode": {
    "name": "ipython",
    "version": 3
   },
   "file_extension": ".py",
   "mimetype": "text/x-python",
   "name": "python",
   "nbconvert_exporter": "python",
   "pygments_lexer": "ipython3",
   "version": "3.9.15"
  }
 },
 "nbformat": 4,
 "nbformat_minor": 2
}
