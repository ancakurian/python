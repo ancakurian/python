{
 "cells": [
  {
   "cell_type": "markdown",
   "metadata": {},
   "source": [
    "# Assignment #1: Anagram Checker\n",
    "\n",
    "**Background**: Anagram Checker is a program that takes two words and determines if an anagram can be made from it. If so, the program will return `true`, otherwise `false`."
   ]
  },
  {
   "cell_type": "code",
   "execution_count": 1,
   "metadata": {},
   "outputs": [
    {
     "name": "stdout",
     "output_type": "stream",
     "text": [
      "True\n"
     ]
    }
   ],
   "source": [
    "# I defined the function and specified the parameters. I used the .lower() method to uniformize the characters.\n",
    "\n",
    "def anagram_checker(word_a, word_b):\n",
    "    \n",
    "    word_a = word_a.lower()\n",
    "    word_b = word_b.lower()\n",
    "\n",
    "    return sorted(word_a) == sorted(word_b)\n",
    "\n",
    "# I run the code to return a boolean value.\n",
    "\n",
    "print(anagram_checker(\"Silent\", \"listen\"))"
   ]
  },
  {
   "cell_type": "code",
   "execution_count": 2,
   "metadata": {},
   "outputs": [
    {
     "name": "stdout",
     "output_type": "stream",
     "text": [
      "False\n"
     ]
    }
   ],
   "source": [
    "# I run the code again using different values for the parameters.\n",
    "\n",
    "print(anagram_checker(\"Silent\", \"Night\"))"
   ]
  },
  {
   "cell_type": "code",
   "execution_count": 3,
   "metadata": {},
   "outputs": [
    {
     "name": "stdout",
     "output_type": "stream",
     "text": [
      "True\n"
     ]
    }
   ],
   "source": [
    "# I run the code one more time with new values for the parameters.\n",
    "\n",
    "print(anagram_checker(\"night\", \"Thing\"))"
   ]
  },
  {
   "cell_type": "code",
   "execution_count": 4,
   "metadata": {},
   "outputs": [
    {
     "name": "stdout",
     "output_type": "stream",
     "text": [
      "True\n"
     ]
    }
   ],
   "source": [
    "# I defined the function adding a third parameter checking for case sensitivity.\n",
    "\n",
    "def anagram_checker(word_a, word_b, is_case_sensitive):\n",
    "    if not is_case_sensitive:\n",
    "        word_a = word_a.lower()\n",
    "        word_b = word_b.lower()\n",
    "    return sorted(word_a) == sorted(word_b)\n",
    "\n",
    "print(anagram_checker(\"Silent\", \"listen\", False))"
   ]
  },
  {
   "cell_type": "code",
   "execution_count": 5,
   "metadata": {},
   "outputs": [
    {
     "name": "stdout",
     "output_type": "stream",
     "text": [
      "False\n"
     ]
    }
   ],
   "source": [
    "print(anagram_checker(\"Silent\", \"Listen\", True)) "
   ]
  }
 ],
 "metadata": {
  "kernelspec": {
   "display_name": "new-learner",
   "language": "python",
   "name": "python3"
  },
  "language_info": {
   "codemirror_mode": {
    "name": "ipython",
    "version": 3
   },
   "file_extension": ".py",
   "mimetype": "text/x-python",
   "name": "python",
   "nbconvert_exporter": "python",
   "pygments_lexer": "ipython3",
   "version": "3.9.15"
  }
 },
 "nbformat": 4,
 "nbformat_minor": 2
}
